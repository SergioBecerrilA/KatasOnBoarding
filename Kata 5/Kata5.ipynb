{
 "cells": [
  {
   "cell_type": "markdown",
   "metadata": {},
   "source": [
    "# Ejercicio 1 - Utilizar operadores aritemticos\n"
   ]
  },
  {
   "cell_type": "code",
   "execution_count": 16,
   "metadata": {},
   "outputs": [
    {
     "name": "stdout",
     "output_type": "stream",
     "text": [
      "628949330\n",
      "390577533.93\n"
     ]
    }
   ],
   "source": [
    "dist1 = 149597870\n",
    "dist2 = 778547200\n",
    "distanciaKM = dist2 - dist1\n",
    "distanciaMilla = distanciaKM* 0.621\n",
    "\n",
    "print(distanciaKM)\n",
    "print(distanciaMilla)"
   ]
  },
  {
   "cell_type": "markdown",
   "metadata": {},
   "source": [
    "# Ejercicio 2 convierte cadenas en números y usa valores absolutos\n"
   ]
  },
  {
   "cell_type": "code",
   "execution_count": 19,
   "metadata": {},
   "outputs": [
    {
     "name": "stdout",
     "output_type": "stream",
     "text": [
      "3716500000\n",
      "2307946500.0\n"
     ]
    }
   ],
   "source": [
    "planeta1 = input(\"Ingrese el nombre del planeta 1\")\n",
    "planeta2 = input(\"Ingrese el nombre del planeta 2\")\n",
    "\n",
    "intplaneta1 = int(planeta1)\n",
    "intplaneta2 = int(planeta2)\n",
    "\n",
    "distancia = abs(intplaneta2 - intplaneta1)\n",
    "print(distancia)\n",
    "print(distancia * 0.621)"
   ]
  }
 ],
 "metadata": {
  "interpreter": {
   "hash": "75d5f2f36428882f5217cef951d7c10390ad53211f0cd30ba895debca6bdc27a"
  },
  "kernelspec": {
   "display_name": "Python 3.9.2 64-bit",
   "language": "python",
   "name": "python3"
  },
  "language_info": {
   "codemirror_mode": {
    "name": "ipython",
    "version": 3
   },
   "file_extension": ".py",
   "mimetype": "text/x-python",
   "name": "python",
   "nbconvert_exporter": "python",
   "pygments_lexer": "ipython3",
   "version": "3.9.2"
  },
  "orig_nbformat": 4
 },
 "nbformat": 4,
 "nbformat_minor": 2
}
