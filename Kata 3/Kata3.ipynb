{
 "cells": [
  {
   "cell_type": "markdown",
   "metadata": {},
   "source": [
    "## Primer ejecricio"
   ]
  },
  {
   "cell_type": "markdown",
   "metadata": {},
   "source": [
    "Añadir el código necesario para crear una variable que guarde la velocidad del asteroide.\n",
    "Escribe una expresión de prueba para calcular si necesita una advertencia.\n",
    "Agregue las instrucciones que se ejecutarán si la expresión de prueba es true o false."
   ]
  },
  {
   "cell_type": "code",
   "execution_count": 1,
   "metadata": {},
   "outputs": [
    {
     "name": "stdout",
     "output_type": "stream",
     "text": [
      "Advertencia de asteroide\n"
     ]
    }
   ],
   "source": [
    "asteroid = 49\n",
    "if asteroid > 25:\n",
    "    print(\"Advertencia de asteroide\")\n",
    "else:\n",
    "    print(\"Niguna amenaza presente\")"
   ]
  },
  {
   "cell_type": "markdown",
   "metadata": {},
   "source": [
    "Agrega el código para crear una variable para un asteroide que viaja a 19 km/s\n",
    "Escribe varias expresiones de prueba para determinar si puedes ver el rayo de luz desde la tierra\n",
    "Agrega las instrucciones que se ejecutarán si las expresiones de prueba son True o False\n"
   ]
  },
  {
   "cell_type": "code",
   "execution_count": 6,
   "metadata": {},
   "outputs": [
    {
     "name": "stdout",
     "output_type": "stream",
     "text": [
      "Niguna amenaza presente\n"
     ]
    }
   ],
   "source": [
    "asteroid = 19\n",
    "\n",
    "if asteroid >= 20:\n",
    "    if asteroid < 25:\n",
    "        print(\"Aviso!! Posibilidad de observar un rayo de un asteroide\")\n",
    "    else:\n",
    "        print(\"Precausion, amenaza de asteroide\")\n",
    "else:\n",
    "    print(\"Niguna amenaza presente\")"
   ]
  },
  {
   "cell_type": "markdown",
   "metadata": {},
   "source": [
    "Agrega el código para crear nuevas variables para la velocidad y el tamaño del asteroide\n",
    "Para probar el código, prueba con varias velocidades y tamaños\n",
    "Escribe varias expresiones de prueba o combinaciones de expresiones de prueba para determinar qué mensaje se debe enviar a Tierra."
   ]
  },
  {
   "cell_type": "code",
   "execution_count": 10,
   "metadata": {},
   "outputs": [
    {
     "name": "stdout",
     "output_type": "stream",
     "text": [
      "Precausion, amenaza de asteroide\n"
     ]
    }
   ],
   "source": [
    "asteroid = 25\n",
    "size = 50\n",
    "\n",
    "if asteroid >= 20 or size >= 25:\n",
    "    if asteroid < 25 and size < 24:\n",
    "        print(\"Aviso!! Posibilidad de observar un rayo de un asteroide\")\n",
    "    elif asteroid > 25 or size > 25:\n",
    "        print(\"Precausion, amenaza de asteroide\")\n",
    "else:\n",
    "    print(\"Niguna amenaza presente\")"
   ]
  }
 ],
 "metadata": {
  "interpreter": {
   "hash": "75d5f2f36428882f5217cef951d7c10390ad53211f0cd30ba895debca6bdc27a"
  },
  "kernelspec": {
   "display_name": "Python 3.9.2 64-bit",
   "language": "python",
   "name": "python3"
  },
  "language_info": {
   "codemirror_mode": {
    "name": "ipython",
    "version": 3
   },
   "file_extension": ".py",
   "mimetype": "text/x-python",
   "name": "python",
   "nbconvert_exporter": "python",
   "pygments_lexer": "ipython3",
   "version": "3.9.2"
  },
  "orig_nbformat": 4
 },
 "nbformat": 4,
 "nbformat_minor": 2
}
