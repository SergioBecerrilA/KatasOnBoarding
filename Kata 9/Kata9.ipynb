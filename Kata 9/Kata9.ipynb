{
 "cells": [
  {
   "cell_type": "markdown",
   "metadata": {},
   "source": [
    "# Ejercicio: Uso de funciones en Python"
   ]
  },
  {
   "cell_type": "markdown",
   "metadata": {},
   "source": [
    "Ejercicio 1: Trabajar con argumentos en funciones"
   ]
  },
  {
   "cell_type": "code",
   "execution_count": 17,
   "metadata": {},
   "outputs": [
    {
     "data": {
      "text/plain": [
       "'El promedio de gasolina en los tanques es: 46.666666666666664% \\n        Tanque 1: 80%  \\n        Tanque 2: 10%  \\n        Tanque 3: 50% '"
      ]
     },
     "execution_count": 17,
     "metadata": {},
     "output_type": "execute_result"
    }
   ],
   "source": [
    "def informe_tank(tank1,tank2,tank3):\n",
    "        prom_tank = (tank1+tank2+tank3) / 3\n",
    "        return f\"\"\"El promedio de gasolina en los tanques es: {prom_tank}% \n",
    "        Tanque 1: {tank1}%  \n",
    "        Tanque 2: {tank2}%  \n",
    "        Tanque 3: {tank3}% \"\"\"\n",
    "informe_tank(80,10,50)"
   ]
  },
  {
   "cell_type": "code",
   "execution_count": 15,
   "metadata": {},
   "outputs": [
    {
     "data": {
      "text/plain": [
       "52.5"
      ]
     },
     "execution_count": 15,
     "metadata": {},
     "output_type": "execute_result"
    }
   ],
   "source": [
    "def calc_prom_tank(val):\n",
    "    numVal = len(val)\n",
    "    promedio = sum(val)/numVal\n",
    "    return promedio\n",
    "\n",
    "calc_prom_tank([20,15,80,95])"
   ]
  },
  {
   "cell_type": "code",
   "execution_count": 19,
   "metadata": {},
   "outputs": [
    {
     "data": {
      "text/plain": [
       "'El promedio de gasolina en los tanques es: 18.333333333333332% \\n        Tanque 1: 10%  \\n        Tanque 2: 15%  \\n        Tanque 3: 30% '"
      ]
     },
     "execution_count": 19,
     "metadata": {},
     "output_type": "execute_result"
    }
   ],
   "source": [
    "\n",
    "def calc_prom_tank(val):\n",
    "    numVal = len(val)\n",
    "    promedio = sum(val)/numVal\n",
    "    return promedio\n",
    "\n",
    "def informe_tank(tank1,tank2,tank3):\n",
    "        return f\"\"\"El promedio de gasolina en los tanques es: {calc_prom_tank([tank1,tank2,tank3])}% \n",
    "        Tanque 1: {tank1}%  \n",
    "        Tanque 2: {tank2}%  \n",
    "        Tanque 3: {tank3}% \"\"\"\n",
    "\n",
    "informe_tank(10,15,30)"
   ]
  },
  {
   "cell_type": "markdown",
   "metadata": {},
   "source": [
    "Ejercicio 2: Trabajo con argumentos de palabra clave"
   ]
  },
  {
   "cell_type": "code",
   "execution_count": 21,
   "metadata": {},
   "outputs": [
    {
     "data": {
      "text/plain": [
       "'El tiempo total del viaje es:105(min) para llegrar a Marte. La cantidad de gasolina es : 430 lts.'"
      ]
     },
     "execution_count": 21,
     "metadata": {},
     "output_type": "execute_result"
    }
   ],
   "source": [
    "def informe(hora_pre,tiempo_vuelo,destino,tanque_ext,tanque_int):\n",
    "    return f\"\"\"El tiempo total del viaje es:{hora_pre + tiempo_vuelo}(min) para llegrar a {destino}. La cantidad de gasolina es : {tanque_ext + tanque_int} lts.\"\"\"\n",
    "\n",
    "informe(45,60,'Marte',150,280)"
   ]
  },
  {
   "cell_type": "code",
   "execution_count": 24,
   "metadata": {},
   "outputs": [
    {
     "name": "stdout",
     "output_type": "stream",
     "text": [
      "Destino: Urano. Tiempo de viaje: 165 minutos. Total de gasolina disponible: 65000 principal -> 45000 \n",
      "externo -> 20000 \n",
      "\n"
     ]
    }
   ],
   "source": [
    "def informe(destino,*minutos, **tanques_gas):\n",
    "    main_report = f\"\"\"Destino: {destino}. Tiempo de viaje: {sum(minutos)} minutos. Total de gasolina disponible: {sum(tanques_gas.values())} \"\"\"\n",
    "    for tanque, gas in tanques_gas.items():\n",
    "        main_report += f\"{tanque} -> {gas} \\n\"\n",
    "    return main_report\n",
    "    \n",
    "\n",
    "print(informe('Urano',15,80,50,20,principal=45000,externo=20000))\n"
   ]
  }
 ],
 "metadata": {
  "interpreter": {
   "hash": "75d5f2f36428882f5217cef951d7c10390ad53211f0cd30ba895debca6bdc27a"
  },
  "kernelspec": {
   "display_name": "Python 3.9.2 64-bit",
   "language": "python",
   "name": "python3"
  },
  "language_info": {
   "codemirror_mode": {
    "name": "ipython",
    "version": 3
   },
   "file_extension": ".py",
   "mimetype": "text/x-python",
   "name": "python",
   "nbconvert_exporter": "python",
   "pygments_lexer": "ipython3",
   "version": "3.9.2"
  },
  "orig_nbformat": 4
 },
 "nbformat": 4,
 "nbformat_minor": 2
}
